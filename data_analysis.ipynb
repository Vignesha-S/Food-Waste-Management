{
 "cells": [
  {
   "cell_type": "markdown",
   "id": "79d35c16-59d1-4913-aa90-8ce46c87ec1d",
   "metadata": {
    "id": "vncDsAP0Gaoa"
   },
   "source": [
    "# **Project Name**    - Local Food Wastage Management System"
   ]
  },
  {
   "cell_type": "markdown",
   "id": "038f1f31-7bb4-49dc-a0b8-1792dc30c300",
   "metadata": {
    "id": "beRrZCGUAJYm"
   },
   "source": [
    "##### **Project Type**    - EDA + Database Management\n",
    "##### **Contribution**    - Individual"
   ]
  },
  {
   "cell_type": "markdown",
   "id": "2d6812ea-7489-4470-883e-5c9100ba5d07",
   "metadata": {
    "id": "FJNUwmbgGyua"
   },
   "source": [
    "# **Project Summary -**"
   ]
  },
  {
   "cell_type": "markdown",
   "id": "d2fb6a2b-96c0-4c40-bb0e-d82f975a0d0b",
   "metadata": {
    "id": "F6v_1wHtG2nS"
   },
   "source": [
    "Food wastage is a major global challenge, with households and restaurants discarding large amounts of surplus food while many individuals face food insecurity. This project focuses on building a **Local Food Wastage Management System** that bridges the gap between food providers (restaurants, grocery stores, supermarkets, individuals) and receivers (NGOs, community centers, individuals).\n",
    "\n",
    "The system integrates **SQL for data storage and analysis, Python for processing, and a Streamlit application for user interaction**. The platform will allow providers to list surplus food, and receivers to claim food based on filters such as city, food type, and meal type.\n",
    "\n",
    "Key features include:\n",
    "\n",
    "- CRUD operations for managing food listings and claims.\n",
    "\n",
    "- SQL-powered insights into provider contributions, claims distribution, and food wastage trends.\n",
    "\n",
    "- Interactive Streamlit interface for visualization, search, and provider–receiver coordination.\n",
    "\n",
    "- Analysis of demand and wastage trends to support sustainable food management practices.\n",
    "\n",
    "Ultimately, this project contributes to **waste reduction** and **social good**, promoting better food redistribution and community impact."
   ]
  },
  {
   "cell_type": "markdown",
   "id": "3ac74656-4fd9-46dc-98ac-db63f9186338",
   "metadata": {
    "id": "w6K7xa23Elo4"
   },
   "source": [
    "# **GitHub Link -**"
   ]
  },
  {
   "cell_type": "markdown",
   "id": "148ef9cc-58ba-4fdd-81b0-42cb4b346786",
   "metadata": {
    "id": "h1o69JH3Eqqn"
   },
   "source": [
    "https://github.com/Vignesha-S/Food-Waste-Management"
   ]
  },
  {
   "cell_type": "markdown",
   "id": "bd1103c9-3585-47c2-9569-b5b2ed548718",
   "metadata": {
    "id": "yQaldy8SH6Dl"
   },
   "source": [
    "# **Problem Statement**\n"
   ]
  },
  {
   "cell_type": "markdown",
   "id": "eb0b885e-197b-4f2d-be3a-9deafa926ff1",
   "metadata": {
    "id": "DpeJGUA3kjGy"
   },
   "source": [
    "Food wastage persists as a critical issue despite increasing hunger and food insecurity. The absence of structured redistribution channels between food providers and needy communities results in inefficiency. This project aims to develop a **data-driven local food wastage management system** that:\n",
    "\n",
    "- Connects food providers and receivers through a digital platform.\n",
    "\n",
    "- Enables efficient listing, filtering, and claiming of surplus food.\n",
    "\n",
    "- Uses SQL to track, analyze, and visualize donation and claim patterns.\n",
    "\n",
    "- Provides actionable insights to reduce wastage and improve redistribution."
   ]
  },
  {
   "cell_type": "markdown",
   "id": "11fc4f9e-3412-4b2e-9289-8fb0612a6cb4",
   "metadata": {},
   "source": [
    "# 1. Data Preparation"
   ]
  },
  {
   "cell_type": "markdown",
   "id": "deea8d2b-bd13-44b0-b04a-59a747950bd4",
   "metadata": {},
   "source": [
    "### Import Libraries"
   ]
  },
  {
   "cell_type": "code",
   "execution_count": 1,
   "id": "f9a45ba8-fc2c-4d58-abb2-77ac41c07520",
   "metadata": {},
   "outputs": [],
   "source": [
    "import pandas as pd\n",
    "import sqlite3\n",
    "import matplotlib.pyplot as plt"
   ]
  },
  {
   "cell_type": "markdown",
   "id": "a8e5ba0d-4833-46c7-9d27-d62bda0e64af",
   "metadata": {},
   "source": [
    "### Load Datasets"
   ]
  },
  {
   "cell_type": "code",
   "execution_count": 2,
   "id": "68b79dfe-587c-49ed-9d5a-b4cbe3df6846",
   "metadata": {},
   "outputs": [
    {
     "name": "stdout",
     "output_type": "stream",
     "text": [
      "Providers:\n",
      "    Provider_ID                         Name           Type  \\\n",
      "0            1             Gonzales-Cochran    Supermarket   \n",
      "1            2  Nielsen, Johnson and Fuller  Grocery Store   \n",
      "2            3                 Miller-Black    Supermarket   \n",
      "3            4   Clark, Prince and Williams  Grocery Store   \n",
      "4            5               Coleman-Farley  Grocery Store   \n",
      "\n",
      "                                             Address            City  \\\n",
      "0  74347 Christopher Extensions\\nAndreamouth, OK ...     New Jessica   \n",
      "1           91228 Hanson Stream\\nWelchtown, OR 27136     East Sheena   \n",
      "2  561 Martinez Point Suite 507\\nGuzmanchester, W...  Lake Jesusview   \n",
      "3     467 Bell Trail Suite 409\\nPort Jesus, IA 61188     Mendezmouth   \n",
      "4  078 Matthew Creek Apt. 319\\nSaraborough, MA 53978   Valentineside   \n",
      "\n",
      "                Contact  \n",
      "0       +1-600-220-0480  \n",
      "1  +1-925-283-8901x6297  \n",
      "2      001-517-295-2206  \n",
      "3      556.944.8935x401  \n",
      "4          193.714.6577  \n",
      "Recievers:\n",
      "    Receiver_ID          Name        Type               City           Contact\n",
      "0            1  Donald Gomez     Shelter     Port Carlburgh     (955)922-5295\n",
      "1            2  Laurie Ramos  Individual         Lewisburgh      761.042.1570\n",
      "2            3  Ashley Mckee         NGO  South Randalltown  691-023-0094x856\n",
      "3            4    Erika Rose         NGO   South Shaneville        8296491111\n",
      "4            5   John Romero  Individual          Bakerport      067.491.0154\n",
      "Food Listings:\n",
      "    Food_ID Food_Name  Quantity Expiry_Date  Provider_ID     Provider_Type  \\\n",
      "0        1     Bread        43   3/17/2025          110     Grocery Store   \n",
      "1        2      Soup        22   3/24/2025          791     Grocery Store   \n",
      "2        3    Fruits        46   3/28/2025          478  Catering Service   \n",
      "3        4    Fruits        15   3/16/2025          930        Restaurant   \n",
      "4        5      Soup        14   3/19/2025          279        Restaurant   \n",
      "\n",
      "           Location       Food_Type  Meal_Type  \n",
      "0  South Kellyville  Non-Vegetarian  Breakfast  \n",
      "1        West James  Non-Vegetarian     Dinner  \n",
      "2       Lake Regina           Vegan  Breakfast  \n",
      "3         Kellytown           Vegan      Lunch  \n",
      "4        Garciaport           Vegan     Dinner  \n",
      "Claims:\n",
      "    Claim_ID  Food_ID  Receiver_ID     Status         Timestamp\n",
      "0         1      164          908    Pending  03-05-2025 05:26\n",
      "1         2      353          391  Cancelled  03-11-2025 10:24\n",
      "2         3      626          492  Completed    3/21/2025 0:59\n",
      "3         4       61          933  Cancelled  03-04-2025 09:08\n",
      "4         5      345          229    Pending   3/14/2025 15:17\n"
     ]
    }
   ],
   "source": [
    "providers_df = pd.read_csv('data/providers_data.csv')\n",
    "receivers_df = pd.read_csv('data/receivers_data.csv')\n",
    "food_listings_df = pd.read_csv('data/food_listings_data.csv')\n",
    "claims_df = pd.read_csv('data/claims_data.csv')\n",
    "\n",
    "# Preview first rows\n",
    "print(\"Providers:\\n\", providers_df.head())\n",
    "print(\"Recievers:\\n\", receivers_df.head())\n",
    "print(\"Food Listings:\\n\", food_listings_df.head())\n",
    "print(\"Claims:\\n\", claims_df.head())"
   ]
  },
  {
   "cell_type": "markdown",
   "id": "330a233c-5e00-4fcc-a7c2-5648e9ba1ee3",
   "metadata": {},
   "source": [
    "### Check Shape of the data"
   ]
  },
  {
   "cell_type": "code",
   "execution_count": 3,
   "id": "64920131-5e73-4285-ab4b-48b81b588897",
   "metadata": {},
   "outputs": [
    {
     "name": "stdout",
     "output_type": "stream",
     "text": [
      "Providers Shape: (1000, 6)\n",
      "Receivers Shape: (1000, 5)\n",
      "Food Listings Shape: (1000, 9)\n",
      "Claims Shape: (1000, 5)\n"
     ]
    }
   ],
   "source": [
    "print(\"Providers Shape:\", providers_df.shape)\n",
    "print(\"Receivers Shape:\", receivers_df.shape)\n",
    "print(\"Food Listings Shape:\", food_listings_df.shape)\n",
    "print(\"Claims Shape:\", claims_df.shape)"
   ]
  },
  {
   "cell_type": "markdown",
   "id": "f13ac12f-0ecc-420e-b68b-79264ed38db0",
   "metadata": {},
   "source": [
    "### Check basic info"
   ]
  },
  {
   "cell_type": "code",
   "execution_count": 4,
   "id": "41a7b4b2-6069-4f49-9a43-29e6e955e141",
   "metadata": {},
   "outputs": [
    {
     "name": "stdout",
     "output_type": "stream",
     "text": [
      "\n",
      "Providers Info:\n",
      "<class 'pandas.core.frame.DataFrame'>\n",
      "RangeIndex: 1000 entries, 0 to 999\n",
      "Data columns (total 6 columns):\n",
      " #   Column       Non-Null Count  Dtype \n",
      "---  ------       --------------  ----- \n",
      " 0   Provider_ID  1000 non-null   int64 \n",
      " 1   Name         1000 non-null   object\n",
      " 2   Type         1000 non-null   object\n",
      " 3   Address      1000 non-null   object\n",
      " 4   City         1000 non-null   object\n",
      " 5   Contact      1000 non-null   object\n",
      "dtypes: int64(1), object(5)\n",
      "memory usage: 47.0+ KB\n",
      "None\n",
      "\n",
      "Receivers Info:\n",
      "<class 'pandas.core.frame.DataFrame'>\n",
      "RangeIndex: 1000 entries, 0 to 999\n",
      "Data columns (total 5 columns):\n",
      " #   Column       Non-Null Count  Dtype \n",
      "---  ------       --------------  ----- \n",
      " 0   Receiver_ID  1000 non-null   int64 \n",
      " 1   Name         1000 non-null   object\n",
      " 2   Type         1000 non-null   object\n",
      " 3   City         1000 non-null   object\n",
      " 4   Contact      1000 non-null   object\n",
      "dtypes: int64(1), object(4)\n",
      "memory usage: 39.2+ KB\n",
      "None\n",
      "\n",
      "Food Listings Info:\n",
      "<class 'pandas.core.frame.DataFrame'>\n",
      "RangeIndex: 1000 entries, 0 to 999\n",
      "Data columns (total 9 columns):\n",
      " #   Column         Non-Null Count  Dtype \n",
      "---  ------         --------------  ----- \n",
      " 0   Food_ID        1000 non-null   int64 \n",
      " 1   Food_Name      1000 non-null   object\n",
      " 2   Quantity       1000 non-null   int64 \n",
      " 3   Expiry_Date    1000 non-null   object\n",
      " 4   Provider_ID    1000 non-null   int64 \n",
      " 5   Provider_Type  1000 non-null   object\n",
      " 6   Location       1000 non-null   object\n",
      " 7   Food_Type      1000 non-null   object\n",
      " 8   Meal_Type      1000 non-null   object\n",
      "dtypes: int64(3), object(6)\n",
      "memory usage: 70.4+ KB\n",
      "None\n",
      "\n",
      "Claims Info:\n",
      "<class 'pandas.core.frame.DataFrame'>\n",
      "RangeIndex: 1000 entries, 0 to 999\n",
      "Data columns (total 5 columns):\n",
      " #   Column       Non-Null Count  Dtype \n",
      "---  ------       --------------  ----- \n",
      " 0   Claim_ID     1000 non-null   int64 \n",
      " 1   Food_ID      1000 non-null   int64 \n",
      " 2   Receiver_ID  1000 non-null   int64 \n",
      " 3   Status       1000 non-null   object\n",
      " 4   Timestamp    1000 non-null   object\n",
      "dtypes: int64(3), object(2)\n",
      "memory usage: 39.2+ KB\n",
      "None\n"
     ]
    }
   ],
   "source": [
    "print(\"\\nProviders Info:\")\n",
    "print(providers_df.info())\n",
    "print(\"\\nReceivers Info:\")\n",
    "print(receivers_df.info())\n",
    "print(\"\\nFood Listings Info:\")\n",
    "print(food_listings_df.info())\n",
    "print(\"\\nClaims Info:\")\n",
    "print(claims_df.info())"
   ]
  },
  {
   "cell_type": "markdown",
   "id": "a445c5a4-ad76-4067-897e-f9e1a15b0070",
   "metadata": {},
   "source": [
    "### Check Missing values"
   ]
  },
  {
   "cell_type": "code",
   "execution_count": 5,
   "id": "0ac41ef8-9e40-471e-854a-89bdf05d1bbb",
   "metadata": {},
   "outputs": [
    {
     "name": "stdout",
     "output_type": "stream",
     "text": [
      "\n",
      "Missing values:\n",
      "Providers:\n",
      " Provider_ID    0\n",
      "Name           0\n",
      "Type           0\n",
      "Address        0\n",
      "City           0\n",
      "Contact        0\n",
      "dtype: int64\n",
      "Receivers:\n",
      " Receiver_ID    0\n",
      "Name           0\n",
      "Type           0\n",
      "City           0\n",
      "Contact        0\n",
      "dtype: int64\n",
      "Food Listings:\n",
      " Food_ID          0\n",
      "Food_Name        0\n",
      "Quantity         0\n",
      "Expiry_Date      0\n",
      "Provider_ID      0\n",
      "Provider_Type    0\n",
      "Location         0\n",
      "Food_Type        0\n",
      "Meal_Type        0\n",
      "dtype: int64\n",
      "Claims:\n",
      " Claim_ID       0\n",
      "Food_ID        0\n",
      "Receiver_ID    0\n",
      "Status         0\n",
      "Timestamp      0\n",
      "dtype: int64\n"
     ]
    }
   ],
   "source": [
    "print(\"\\nMissing values:\")\n",
    "print(\"Providers:\\n\", providers_df.isnull().sum())\n",
    "print(\"Receivers:\\n\", receivers_df.isnull().sum())\n",
    "print(\"Food Listings:\\n\", food_listings_df.isnull().sum())\n",
    "print(\"Claims:\\n\", claims_df.isnull().sum())"
   ]
  },
  {
   "cell_type": "markdown",
   "id": "18f45ecb-0f27-4bb0-acd8-272da6368e4c",
   "metadata": {},
   "source": [
    "### Convert date columns to datetime"
   ]
  },
  {
   "cell_type": "code",
   "execution_count": 6,
   "id": "88da1421-7e9f-4490-9693-ad138a0f4546",
   "metadata": {},
   "outputs": [
    {
     "name": "stdout",
     "output_type": "stream",
     "text": [
      "Food Listings after conversion:\n",
      "\n",
      "<class 'pandas.core.frame.DataFrame'>\n",
      "RangeIndex: 1000 entries, 0 to 999\n",
      "Data columns (total 9 columns):\n",
      " #   Column         Non-Null Count  Dtype         \n",
      "---  ------         --------------  -----         \n",
      " 0   Food_ID        1000 non-null   int64         \n",
      " 1   Food_Name      1000 non-null   object        \n",
      " 2   Quantity       1000 non-null   int64         \n",
      " 3   Expiry_Date    1000 non-null   datetime64[ns]\n",
      " 4   Provider_ID    1000 non-null   int64         \n",
      " 5   Provider_Type  1000 non-null   object        \n",
      " 6   Location       1000 non-null   object        \n",
      " 7   Food_Type      1000 non-null   object        \n",
      " 8   Meal_Type      1000 non-null   object        \n",
      "dtypes: datetime64[ns](1), int64(3), object(5)\n",
      "memory usage: 70.4+ KB\n",
      "None\n",
      "\n",
      "Claims after conversion:\n",
      "\n",
      "<class 'pandas.core.frame.DataFrame'>\n",
      "RangeIndex: 1000 entries, 0 to 999\n",
      "Data columns (total 5 columns):\n",
      " #   Column       Non-Null Count  Dtype         \n",
      "---  ------       --------------  -----         \n",
      " 0   Claim_ID     1000 non-null   int64         \n",
      " 1   Food_ID      1000 non-null   int64         \n",
      " 2   Receiver_ID  1000 non-null   int64         \n",
      " 3   Status       1000 non-null   object        \n",
      " 4   Timestamp    1000 non-null   datetime64[ns]\n",
      "dtypes: datetime64[ns](1), int64(3), object(1)\n",
      "memory usage: 39.2+ KB\n",
      "None\n"
     ]
    }
   ],
   "source": [
    "# Convert date columns to datetime\n",
    "food_listings_df['Expiry_Date'] = pd.to_datetime(food_listings_df['Expiry_Date'], errors='coerce')\n",
    "# Normalize separators (replace - with /)\n",
    "claims_df[\"Timestamp\"] = claims_df[\"Timestamp\"].astype(str).str.replace(\"-\", \"/\")\n",
    "\n",
    "# Convert to datetime (month first)\n",
    "claims_df[\"Timestamp\"] = pd.to_datetime(\n",
    "    claims_df[\"Timestamp\"], \n",
    "    format=\"%m/%d/%Y %H:%M\",\n",
    "    errors=\"coerce\"\n",
    ")\n",
    "\n",
    "# Verify conversion\n",
    "print(\"Food Listings after conversion:\\n\")\n",
    "print(food_listings_df.info())\n",
    "\n",
    "print(\"\\nClaims after conversion:\\n\")\n",
    "print(claims_df.info())"
   ]
  },
  {
   "cell_type": "markdown",
   "id": "5ddcf76e-18a0-423f-b122-f9383be28f53",
   "metadata": {},
   "source": [
    "- Loaded the datasets: **Providers, Receivers, Food Listings, and Claims**.  \n",
    "- Checked for missing values and verified dataset consistency.  \n",
    "- Ensured correct data types:  \n",
    "  - Converted `Expiry_Date` in *Food Listings* to `datetime`.  \n",
    "  - Normalized separators (`-` → `/`) in *Claims* and converted `Timestamp` to `datetime`.  \n",
    "- Verified successful conversion with **no missing values** in date columns.  \n",
    "\n",
    "**The datasets are now clean, consistent, and ready for database creation.**  "
   ]
  },
  {
   "cell_type": "markdown",
   "id": "5d2799ae-8f0c-4cb9-94fb-dcdd3b3d566f",
   "metadata": {},
   "source": [
    "# 2. Database Creation"
   ]
  },
  {
   "cell_type": "markdown",
   "id": "e5cb67d7-d567-45e9-b44b-17a897cc6c0e",
   "metadata": {},
   "source": [
    "### Connect to SQLite database"
   ]
  },
  {
   "cell_type": "code",
   "execution_count": 7,
   "id": "36e0a2b4-0166-49c4-a165-aab755132ef4",
   "metadata": {},
   "outputs": [
    {
     "name": "stdout",
     "output_type": "stream",
     "text": [
      "Tables created successfully\n"
     ]
    }
   ],
   "source": [
    "conn = sqlite3.connect(\"food_donation.db\")\n",
    "cursor = conn.cursor()\n",
    "\n",
    "# Create tables\n",
    "cursor.execute('''\n",
    "CREATE TABLE Providers (\n",
    "    Provider_ID   INTEGER PRIMARY KEY,\n",
    "    Name          TEXT,\n",
    "    Type          TEXT,\n",
    "    Address       TEXT,\n",
    "    City          TEXT,\n",
    "    Contact       TEXT\n",
    ")\n",
    "''')\n",
    "\n",
    "cursor.execute('''\n",
    "CREATE TABLE Receivers (\n",
    "    Receiver_ID   INTEGER PRIMARY KEY,\n",
    "    Name          TEXT,\n",
    "    Type          TEXT,\n",
    "    City          TEXT,\n",
    "    Contact       TEXT\n",
    ")\n",
    "''')\n",
    "\n",
    "cursor.execute('''\n",
    "CREATE TABLE Food_Listings (\n",
    "    Food_ID       INTEGER PRIMARY KEY,\n",
    "    Food_Name     TEXT,\n",
    "    Quantity      INTEGER,\n",
    "    Expiry_Date   DATETIME,\n",
    "    Provider_ID   INTEGER,\n",
    "    Provider_Type TEXT,\n",
    "    Location      TEXT,\n",
    "    Food_Type     TEXT,\n",
    "    Meal_Type     TEXT,\n",
    "    FOREIGN KEY (Provider_ID) REFERENCES Providers (Provider_ID)\n",
    ")\n",
    "''')\n",
    "\n",
    "cursor.execute('''\n",
    "CREATE TABLE Claims (\n",
    "    Claim_ID      INTEGER PRIMARY KEY,\n",
    "    Food_ID       INTEGER,\n",
    "    Receiver_ID   INTEGER,\n",
    "    Status        TEXT,\n",
    "    Timestamp     DATETIME,\n",
    "    FOREIGN KEY (Food_ID) REFERENCES Food_Listings (Food_ID),\n",
    "    FOREIGN KEY (Receiver_ID) REFERENCES Receivers (Receiver_ID)\n",
    ")\n",
    "''')\n",
    "\n",
    "conn.commit()\n",
    "print('Tables created successfully')"
   ]
  },
  {
   "cell_type": "code",
   "execution_count": 8,
   "id": "f7ad7af6-5bf4-466a-90d4-e0fb8339436a",
   "metadata": {},
   "outputs": [
    {
     "name": "stdout",
     "output_type": "stream",
     "text": [
      "Data inserted successfully into all tables!\n"
     ]
    }
   ],
   "source": [
    "# Insert data into tables from DataFrames\n",
    "providers_df.to_sql(\"Providers\", conn, if_exists=\"append\", index=False)\n",
    "receivers_df.to_sql(\"Receivers\", conn, if_exists=\"append\", index=False)\n",
    "food_listings_df.to_sql(\"Food_Listings\", conn, if_exists=\"append\", index=False)\n",
    "claims_df.to_sql(\"Claims\", conn, if_exists=\"append\", index=False)\n",
    "\n",
    "print(\"Data inserted successfully into all tables!\")"
   ]
  },
  {
   "cell_type": "markdown",
   "id": "50aefa6d-7718-4896-9bef-ee96f5f3ff0e",
   "metadata": {},
   "source": [
    "#### Verify data inserted"
   ]
  },
  {
   "cell_type": "code",
   "execution_count": 9,
   "id": "6a1d7d0b-13ec-40b4-85ae-0a2707191f9c",
   "metadata": {},
   "outputs": [
    {
     "name": "stdout",
     "output_type": "stream",
     "text": [
      "Providers: 1000 records\n",
      "Receivers: 1000 records\n",
      "Food_Listings: 1000 records\n",
      "Claims: 1000 records\n"
     ]
    }
   ],
   "source": [
    "for table in [\"Providers\", \"Receivers\", \"Food_Listings\", \"Claims\"]:\n",
    "    rows = cursor.execute(f\"SELECT COUNT(*) FROM {table}\").fetchone()[0]\n",
    "    print(f\"{table}: {rows} records\")"
   ]
  },
  {
   "cell_type": "markdown",
   "id": "a0c1539d-40ea-40be-8648-f9304373ad8b",
   "metadata": {},
   "source": [
    "### Implemement CRUD Operations"
   ]
  },
  {
   "cell_type": "code",
   "execution_count": 10,
   "id": "f93db224-84d6-4be4-b397-f6faa2875d7f",
   "metadata": {},
   "outputs": [],
   "source": [
    "# Connect to db\n",
    "conn = sqlite3.connect(\"food_donation.db\")\n",
    "cursor = conn.cursor()\n",
    "\n",
    "# CREATE - Insert a record\n",
    "def insert_record(table, data):\n",
    "    placeholders = \", \".join([\"?\"] * len(data))\n",
    "    query = f'INSERT INTO {table} VALUES ({placeholders})'\n",
    "    cursor.execute(query, data)\n",
    "    conn.commit()\n",
    "    #print(f\"Record inserted into {table}.\")\n",
    "\n",
    "# READ - Fetch all records\n",
    "def read_records(table, column=None, value=None):\n",
    "    \"\"\"\n",
    "    Read records from a table.\n",
    "    If column and value are provided, filter results.\n",
    "    \"\"\"\n",
    "    if column and value is not None:\n",
    "        query = f'SELECT * FROM {table} WHERE {column} = ?'\n",
    "        cursor.execute(query, (value,))\n",
    "    else:\n",
    "        query = f'SELECT * FROM {table}'\n",
    "        cursor.execute(query)\n",
    "    return cursor.fetchall()\n",
    "\n",
    "# UPDATE - Update a record\n",
    "def update_record(table, column, value, condition_column, condition_value):\n",
    "    query = f\"UPDATE {table} SET {column} = ? WHERE {condition_column} = ?\"\n",
    "    cursor.execute(query, (value, condition_value))\n",
    "    conn.commit()\n",
    "    print(f\"Record updated in {table}.\")\n",
    "\n",
    "# DELETE - Delete a record\n",
    "def delete_record(table, condition_column, condition_value):\n",
    "    query = f\"DELETE FROM {table} WHERE {condition_column} = ?\"\n",
    "    cursor.execute(query, (condition_value,))\n",
    "    conn.commit()\n",
    "    print(f\"Record deleted from {table}.\")"
   ]
  },
  {
   "cell_type": "code",
   "execution_count": 11,
   "id": "e2161603-d2ef-40f1-be09-4c7b38872767",
   "metadata": {},
   "outputs": [
    {
     "name": "stdout",
     "output_type": "stream",
     "text": [
      "After Insert:\n",
      "[(2001, 'Helping Hands', 'NGO', '123 Main St', 'Chennai', '9876543210')]\n",
      "Record updated in Providers.\n",
      "After Update:\n",
      "[(2001, 'New Helping Hands', 'NGO', '123 Main St', 'Chennai', '9876543210')]\n",
      "Record deleted from Providers.\n",
      "After Delete:\n",
      "[]\n"
     ]
    }
   ],
   "source": [
    "# 1. Insert a new test provider (use an ID not in the dataset)\n",
    "insert_record(\"Providers\", (2001, \"Helping Hands\", \"NGO\", \"123 Main St\", \"Chennai\", \"9876543210\"))\n",
    "\n",
    "# 2. Read the inserted record\n",
    "print(\"After Insert:\")\n",
    "print(read_records(\"Providers\", \"Provider_ID\", 2001))\n",
    "\n",
    "# 3. Update the test provider's name\n",
    "update_record(\"Providers\", \"Name\", \"New Helping Hands\", \"Provider_ID\", 2001)\n",
    "\n",
    "print(\"After Update:\")\n",
    "print(read_records(\"Providers\", \"Provider_ID\", 2001))\n",
    "\n",
    "# 4. Delete the test provider\n",
    "delete_record(\"Providers\", \"Provider_ID\", 2001)\n",
    "\n",
    "print(\"After Delete:\")\n",
    "print(read_records(\"Providers\", \"Provider_ID\", 2001))  # should show empty\n"
   ]
  },
  {
   "cell_type": "markdown",
   "id": "4e01a3ce-ecb8-4013-a531-ee612fce8e21",
   "metadata": {},
   "source": [
    "## Database Creation and Operations  \n",
    "\n",
    "- Created a SQLite database (`food_donation.db`) to store all records.  \n",
    "- Defined and created four tables:  \n",
    "  - **Providers** → stores provider details  \n",
    "  - **Receivers** → stores receiver details  \n",
    "  - **Food_Listings** → tracks food items, expiry dates, and provider info  \n",
    "  - **Claims** → logs claims made by receivers with timestamps  \n",
    "- Inserted cleaned DataFrames into the database using `pandas.to_sql()`.  \n",
    "- Verified successful insertion by checking record counts for each table.  \n",
    "\n",
    "---\n",
    "\n",
    "### CRUD Operations \n",
    "To demonstrate database functionality, we implemented four functions:  \n",
    "- `insert_record()` → insert new records  \n",
    "- `read_records()` → fetch existing records  \n",
    "- `update_record()` → update existing records  \n",
    "- `delete_record()` → delete records  \n",
    "\n",
    "#### Safe Test Example (using Provider_ID = 2001)  \n",
    "This ensures the original dataset remains untouched.  \n",
    "\n",
    "- **After Insert:**  \n",
    "  `[(2001, 'Helping Hands', 'NGO', '123 Main St', 'Chennai', '9876543210')]`  \n",
    "\n",
    "- **After Update:**  \n",
    "  `[(2001, 'New Helping Hands', 'NGO', '123 Main St', 'Chennai', '9876543210')]`  \n",
    "\n",
    "- **After Delete:**  \n",
    "  `[]`  \n",
    "\n",
    "✅ All CRUD operations executed successfully without affecting the original data."
   ]
  },
  {
   "cell_type": "markdown",
   "id": "98dcf53b-9ef8-440a-8aca-9b55db1b24a9",
   "metadata": {},
   "source": [
    "# 3. Data Analysis"
   ]
  },
  {
   "cell_type": "code",
   "execution_count": 12,
   "id": "aee8af0e-05e5-4594-bbb5-6aa27b0f0c56",
   "metadata": {},
   "outputs": [],
   "source": [
    "# Function to run any SQL query and return a DataFrame\n",
    "def run_query(query):\n",
    "    conn = sqlite3.connect(\"food_donation.db\")  # Connect to your SQLite DB\n",
    "    df = pd.read_sql_query(query, conn)\n",
    "    conn.close()\n",
    "    return df"
   ]
  },
  {
   "cell_type": "markdown",
   "id": "3f2ddd4d-2954-4aef-8a05-6c25b1df3313",
   "metadata": {},
   "source": [
    "### Food Providers & Receivers\n",
    "\n",
    "#### Query 1: Count of food providers and receivers in each city"
   ]
  },
  {
   "cell_type": "code",
   "execution_count": 29,
   "id": "f9a027c9-99d3-493c-a16d-ab7e61dff1b6",
   "metadata": {},
   "outputs": [
    {
     "name": "stdout",
     "output_type": "stream",
     "text": [
      "Query 1 Result:\n",
      "                 City  Total_Providers  Total_Receivers\n",
      "0         Aaronshire                0                1\n",
      "1           Adambury                1                0\n",
      "2           Adamland                0                1\n",
      "3          Adamsview                1                0\n",
      "4         Adamsville                1                0\n",
      "...              ...              ...              ...\n",
      "1873       Yatesside                1                0\n",
      "1874    Youngchester                1                0\n",
      "1875     Zacharyview                0                1\n",
      "1876    Zimmermanton                1                0\n",
      "1877  Zimmermanville                1                0\n",
      "\n",
      "[1878 rows x 3 columns]\n"
     ]
    }
   ],
   "source": [
    "query1 = \"\"\"\n",
    "SELECT City, \n",
    "       (SELECT COUNT(*) FROM Providers p WHERE p.City = c.City) AS Total_Providers,\n",
    "       (SELECT COUNT(*) FROM Receivers r WHERE r.City = c.City) AS Total_Receivers\n",
    "FROM (SELECT City FROM Providers UNION SELECT City FROM Receivers) c\n",
    "GROUP BY City\n",
    "ORDER BY City;\n",
    "\"\"\"\n",
    "result1 = run_query(query1)\n",
    "print(\"Query 1 Result:\\n\", result1)"
   ]
  },
  {
   "cell_type": "markdown",
   "id": "41dea9c2-b5b7-4595-934e-22c3b67d1b9a",
   "metadata": {},
   "source": [
    "**Insights:**\r\n",
    "- Most cities have either a single provider or a single receiver, showing a wide but sparse distribution.\r\n",
    "- Some cities have both providers and receivers, while others have only one type, indicating mismatches in supply and demand.\r\n",
    "- Highlights cities where additional providers or receivers are needed for better food distribution.\r\n"
   ]
  },
  {
   "cell_type": "markdown",
   "id": "d5ff357b-e130-4583-addb-2c4f71336ad4",
   "metadata": {},
   "source": [
    "#### Query 2: Type of food provider contributing the most"
   ]
  },
  {
   "cell_type": "code",
   "execution_count": 14,
   "id": "927fef12-c56e-42b3-9ef4-04bb0665e6a1",
   "metadata": {},
   "outputs": [
    {
     "name": "stdout",
     "output_type": "stream",
     "text": [
      "\n",
      "Query 2 Result:\n",
      "       Provider_Type  Total_Contributions\n",
      "0       Supermarket                  267\n",
      "1        Restaurant                  258\n",
      "2     Grocery Store                  243\n",
      "3  Catering Service                  232\n"
     ]
    }
   ],
   "source": [
    "query2 = \"\"\"\n",
    "SELECT Type AS Provider_Type, COUNT(*) AS Total_Contributions\n",
    "FROM Providers p\n",
    "JOIN Food_Listings f ON p.Provider_ID = f.Provider_ID\n",
    "GROUP BY Type\n",
    "ORDER BY Total_Contributions DESC;\n",
    "\"\"\"\n",
    "result2 = run_query(query2)\n",
    "print(\"\\nQuery 2 Result:\\n\", result2)"
   ]
  },
  {
   "cell_type": "markdown",
   "id": "cd811433-a389-4642-84c9-a73720923314",
   "metadata": {},
   "source": [
    "**Insights:**\n",
    "- Supermarkets are the largest contributors, followed closely by restaurants and grocery stores.\n",
    "- Catering services also make a significant contribution, showing a balanced mix of food sources.\n",
    "- Indicates that partnerships with supermarkets and restaurants can maximize food availability.\n"
   ]
  },
  {
   "cell_type": "markdown",
   "id": "c0f28b46-e653-491e-9a65-126fea6af149",
   "metadata": {},
   "source": [
    "#### Query 3: Contact info of food providers in a specific city"
   ]
  },
  {
   "cell_type": "code",
   "execution_count": 15,
   "id": "9f0965f4-2fcf-453b-a69c-e70b1791d366",
   "metadata": {},
   "outputs": [
    {
     "name": "stdout",
     "output_type": "stream",
     "text": [
      "\n",
      "Query 3 Result:\n",
      "                Name          Contact\n",
      "0  Gonzales-Cochran  +1-600-220-0480\n"
     ]
    }
   ],
   "source": [
    "query3 = \"\"\"\n",
    "SELECT Name, Contact\n",
    "FROM Providers\n",
    "WHERE City = 'New Jessica';\n",
    "\"\"\"\n",
    "result3 = run_query(query3)\n",
    "print(\"\\nQuery 3 Result:\\n\", result3)"
   ]
  },
  {
   "cell_type": "markdown",
   "id": "8d32b2db-f247-48fe-b549-362128ab2ba8",
   "metadata": {},
   "source": [
    "**Insights:**\r\n",
    "\r\n",
    "* In the city *New Jessica*, there is one food provider, **Gonzales-Cochran**, with contact **+1-600-220-0480**.\r\n",
    "* This shows that for smaller cities, direct coordination with a single provider is straightforward.\r\n"
   ]
  },
  {
   "cell_type": "markdown",
   "id": "e1a184b9-60f4-4e24-8561-57f68705e4a6",
   "metadata": {},
   "source": [
    "#### Query 4: Receivers who have claimed the most food"
   ]
  },
  {
   "cell_type": "code",
   "execution_count": 16,
   "id": "322e989e-2b82-4d26-a8d3-e4a0c38a908e",
   "metadata": {},
   "outputs": [
    {
     "name": "stdout",
     "output_type": "stream",
     "text": [
      "\n",
      "Query 4 Result:\n",
      "      Receiver_ID  Total_Claims\n",
      "0            800             5\n",
      "1            742             5\n",
      "2            371             5\n",
      "3            276             5\n",
      "4            901             4\n",
      "..           ...           ...\n",
      "619           15             1\n",
      "620           12             1\n",
      "621            7             1\n",
      "622            3             1\n",
      "623            2             1\n",
      "\n",
      "[624 rows x 2 columns]\n"
     ]
    }
   ],
   "source": [
    "query4 = \"\"\"\n",
    "SELECT r.Receiver_ID, COUNT(c.Claim_ID) AS Total_Claims\n",
    "FROM Receivers r\n",
    "JOIN Claims c ON r.Receiver_ID = c.Receiver_ID\n",
    "GROUP BY r.Receiver_ID\n",
    "ORDER BY Total_Claims DESC;\n",
    "\"\"\"\n",
    "result4 = run_query(query4)\n",
    "print(\"\\nQuery 4 Result:\\n\", result4)"
   ]
  },
  {
   "cell_type": "markdown",
   "id": "c71a3ca1-488d-4765-b9c0-2b100b7761c2",
   "metadata": {},
   "source": [
    "**Insights:**\r\n",
    "\r\n",
    "* The top receivers (e.g., IDs 800, 742, 371, 276) have claimed **5 food items each**, indicating high engagement.\r\n",
    "* Most receivers claim only **1–2 items**, showing that a small group accounts for repeated food claims.\r\n",
    "* This helps identify frequent beneficiaries for targeted distribution plannng.\r\n"
   ]
  },
  {
   "cell_type": "markdown",
   "id": "b2092044-0d01-4757-b048-14b434c23d74",
   "metadata": {},
   "source": [
    "### Food Listings & Availability\n",
    "\n",
    "#### Query 5: Total quantity of food available from all providers"
   ]
  },
  {
   "cell_type": "code",
   "execution_count": 17,
   "id": "129c9acc-45e1-4b68-bd8e-41d17bcda769",
   "metadata": {},
   "outputs": [
    {
     "name": "stdout",
     "output_type": "stream",
     "text": [
      "\n",
      "Query 5 Result:\n",
      "    Total_Food_Quantity\n",
      "0                25794\n"
     ]
    }
   ],
   "source": [
    "query5 = \"\"\"\n",
    "SELECT SUM(Quantity) AS Total_Food_Quantity\n",
    "FROM Food_Listings;\n",
    "\"\"\"\n",
    "result5 = run_query(query5)\n",
    "print(\"\\nQuery 5 Result:\\n\", result5)"
   ]
  },
  {
   "cell_type": "markdown",
   "id": "632d99fa-95d7-4d34-8333-d42807133ec6",
   "metadata": {},
   "source": [
    "**Insights:**\r\n",
    "\r\n",
    "* The **total quantity of food available** across all providers is **25,794 units**.\r\n",
    "* This gives an overview of the overall food supply for distribution plannig.\r\n"
   ]
  },
  {
   "cell_type": "markdown",
   "id": "48ab148e-49f0-4ac2-8a0f-dd31b1af5688",
   "metadata": {},
   "source": [
    "#### Query 6: City with the highest number of food listings"
   ]
  },
  {
   "cell_type": "code",
   "execution_count": 18,
   "id": "12e7bac3-e027-4b8d-95ec-4c7a4f4063d1",
   "metadata": {},
   "outputs": [
    {
     "name": "stdout",
     "output_type": "stream",
     "text": [
      "\n",
      "Query 6 Result:\n",
      "             City  Total_Listings\n",
      "0  South Kathryn               6\n"
     ]
    }
   ],
   "source": [
    "query6 = \"\"\"\n",
    "SELECT p.City, COUNT(f.Food_ID) AS Total_Listings\n",
    "FROM Food_Listings f\n",
    "JOIN Providers p ON f.Provider_ID = p.Provider_ID\n",
    "GROUP BY p.City\n",
    "ORDER BY Total_Listings DESC\n",
    "LIMIT 1;\n",
    "\"\"\"\n",
    "result6 = run_query(query6)\n",
    "print(\"\\nQuery 6 Result:\\n\", result6)"
   ]
  },
  {
   "cell_type": "markdown",
   "id": "c79f4f84-3dfc-4e12-962f-9640239f917a",
   "metadata": {},
   "source": [
    "**Insights:**\r\n",
    "\r\n",
    "* The city with the **highest number of food listings** is **South Kathryn** with **6 listings**.\r\n",
    "* This indicates a higher concentration of available food in that city, which could be prioritized for distributin.\r\n"
   ]
  },
  {
   "cell_type": "markdown",
   "id": "c1c0b5d5-5ec3-4951-ac4b-4ad1671043b9",
   "metadata": {},
   "source": [
    "#### Query 7: Most commonly available food types"
   ]
  },
  {
   "cell_type": "code",
   "execution_count": 19,
   "id": "3a1f4b49-5ce5-4cc1-b880-61d5419c0d94",
   "metadata": {},
   "outputs": [
    {
     "name": "stdout",
     "output_type": "stream",
     "text": [
      "\n",
      "Query 7 Result:\n",
      "         Food_Type  Total_Listings\n",
      "0      Vegetarian             336\n",
      "1           Vegan             334\n",
      "2  Non-Vegetarian             330\n"
     ]
    }
   ],
   "source": [
    "query7 = \"\"\"\n",
    "SELECT Food_Type, COUNT(*) AS Total_Listings\n",
    "FROM Food_Listings\n",
    "GROUP BY Food_Type\n",
    "ORDER BY Total_Listings DESC\n",
    "LIMIT 10;\n",
    "\"\"\"\n",
    "result7 = run_query(query7)\n",
    "print(\"\\nQuery 7 Result:\\n\", result7)"
   ]
  },
  {
   "cell_type": "markdown",
   "id": "916c2405-20df-45a4-a0ed-77106b30ac1f",
   "metadata": {},
   "source": [
    "**Insights:**\r\n",
    "\r\n",
    "* The most commonly available food types are **Vegetarian (336 listings)**, **Vegan (334 listings)**, and **Non-Vegetarian (330 listings)**.\r\n",
    "* The availability is almost evenly distributed across all major food types, suggesting balanced donation trens.\r\n"
   ]
  },
  {
   "cell_type": "markdown",
   "id": "c3bd9c2f-98b4-4f46-83d7-74d32b1fa602",
   "metadata": {},
   "source": [
    "### Claims & Distribution\n",
    "\n",
    "#### Query 8: Number of food claims for each food item"
   ]
  },
  {
   "cell_type": "code",
   "execution_count": 20,
   "id": "9cb8f6fb-fb25-46e3-9918-1409dd33f379",
   "metadata": {},
   "outputs": [
    {
     "name": "stdout",
     "output_type": "stream",
     "text": [
      "\n",
      "Query 8 Result:\n",
      "         Food_Type  Total_Claims\n",
      "0      Vegetarian           350\n",
      "1  Non-Vegetarian           331\n",
      "2           Vegan           319\n"
     ]
    }
   ],
   "source": [
    "query8 = \"\"\"\n",
    "SELECT f.Food_Type, COUNT(c.Claim_ID) AS Total_Claims\n",
    "FROM Claims c\n",
    "JOIN Food_Listings f ON c.Food_ID = f.Food_ID\n",
    "GROUP BY f.Food_Type\n",
    "ORDER BY Total_Claims DESC;\n",
    "\"\"\"\n",
    "result8 = run_query(query8)\n",
    "print(\"\\nQuery 8 Result:\\n\", result8)"
   ]
  },
  {
   "cell_type": "markdown",
   "id": "728d941e-d2c5-49e9-b68c-468b4822ff68",
   "metadata": {},
   "source": [
    "**Insights:**\n",
    "\n",
    "* **Vegetarian food** has the highest number of claims **(350)**, followed by **Non-Vegetarian (331)** and **Vegan (319)**.\n",
    "* This indicates that vegetarian items are slightly more in demand among receivers, though all food types are actively claimed."
   ]
  },
  {
   "cell_type": "markdown",
   "id": "900fc664-b65d-41a7-8472-0f7c6ed7509a",
   "metadata": {},
   "source": [
    "#### Query 9: Provider with the highest number of successful food claims"
   ]
  },
  {
   "cell_type": "code",
   "execution_count": 21,
   "id": "dae1b69c-239a-434f-b8d7-ba4602aa0bee",
   "metadata": {},
   "outputs": [
    {
     "name": "stdout",
     "output_type": "stream",
     "text": [
      "\n",
      "Query 9 Result:\n",
      "           Name  Successful_Claims\n",
      "0  Barry Group                  5\n"
     ]
    }
   ],
   "source": [
    "query9 = \"\"\"\n",
    "SELECT p.Name, COUNT(c.Claim_ID) AS Successful_Claims\n",
    "FROM Claims c\n",
    "JOIN Food_Listings f ON c.Food_ID = f.Food_ID\n",
    "JOIN Providers p ON f.Provider_ID = p.Provider_ID\n",
    "WHERE c.Status = 'Completed'\n",
    "GROUP BY p.Name\n",
    "ORDER BY Successful_Claims DESC\n",
    "LIMIT 1;\n",
    "\"\"\"\n",
    "result9 = run_query(query9)\n",
    "print(\"\\nQuery 9 Result:\\n\", result9)"
   ]
  },
  {
   "cell_type": "markdown",
   "id": "b6918070-93ff-491c-b4f1-6480ee70b820",
   "metadata": {},
   "source": [
    "**Insights:**\r\n",
    "\r\n",
    "* **Barry Group** has the highest number of successful food claims (5), indicating it is the most active or reliable provider in fulfilling food request.\r\n"
   ]
  },
  {
   "cell_type": "markdown",
   "id": "43cf0297-e5f0-4905-bbe4-39119ed931cd",
   "metadata": {},
   "source": [
    "#### Query 10: Percentage of claims by status"
   ]
  },
  {
   "cell_type": "code",
   "execution_count": 22,
   "id": "7c598b52-1c26-4fc1-925d-78cd83473a7f",
   "metadata": {},
   "outputs": [
    {
     "name": "stdout",
     "output_type": "stream",
     "text": [
      "\n",
      "Query 10 Result:\n",
      "       Status  Percentage\n",
      "0  Cancelled        33.6\n",
      "1  Completed        33.9\n",
      "2    Pending        32.5\n"
     ]
    }
   ],
   "source": [
    "query10 = \"\"\"\n",
    "SELECT Status, \n",
    "       ROUND(CAST(COUNT(*) AS FLOAT) / (SELECT COUNT(*) FROM Claims) * 100, 2) AS Percentage\n",
    "FROM Claims\n",
    "GROUP BY Status;\n",
    "\"\"\"\n",
    "result10 = run_query(query10)\n",
    "print(\"\\nQuery 10 Result:\\n\", result10)"
   ]
  },
  {
   "cell_type": "markdown",
   "id": "d14b1401-c8aa-4d26-b903-b0915eb8393e",
   "metadata": {},
   "source": [
    "**Insights:**\n",
    "\n",
    "* The food claims are almost evenly distributed across statuses: **Completed (33.9%)**, **Cancelled (33.6%)**, and **Pending (32.5%)**.\n",
    "* This indicates a need to improve the completion rate and reduce cancellations to optimize food distribution."
   ]
  },
  {
   "cell_type": "markdown",
   "id": "35607386-fcef-401e-9c62-130646d6efa6",
   "metadata": {},
   "source": [
    "### Analysis & Insights\n",
    "\n",
    "#### Query 11: Average quantity of food claimed per receiver"
   ]
  },
  {
   "cell_type": "code",
   "execution_count": 23,
   "id": "03b47927-a517-4a13-9693-c62776c640ef",
   "metadata": {},
   "outputs": [
    {
     "name": "stdout",
     "output_type": "stream",
     "text": [
      "\n",
      "Query 11 Result:\n",
      "      Receiver_ID  Avg_Quantity_Claimed\n",
      "0            982                  50.0\n",
      "1            739                  50.0\n",
      "2            616                  50.0\n",
      "3            567                  50.0\n",
      "4            429                  50.0\n",
      "..           ...                   ...\n",
      "619          214                   2.0\n",
      "620          184                   2.0\n",
      "621          174                   2.0\n",
      "622          904                   1.0\n",
      "623          765                   1.0\n",
      "\n",
      "[624 rows x 2 columns]\n"
     ]
    }
   ],
   "source": [
    "query11 = \"\"\"\n",
    "SELECT r.Receiver_ID, AVG(f.Quantity) AS Avg_Quantity_Claimed\n",
    "FROM Claims c\n",
    "JOIN Food_Listings f ON c.Food_ID = f.Food_ID\n",
    "JOIN Receivers r ON c.Receiver_ID = r.Receiver_ID\n",
    "GROUP BY r.Receiver_ID\n",
    "ORDER BY Avg_Quantity_Claimed DESC;\n",
    "\"\"\"\n",
    "result11 = run_query(query11)\n",
    "print(\"\\nQuery 11 Result:\\n\", result11)"
   ]
  },
  {
   "cell_type": "markdown",
   "id": "f00e6528-243a-4228-aa84-28e19723c909",
   "metadata": {},
   "source": [
    "**Insights:**\r\n",
    "\r\n",
    "* On average, receivers claim varying quantities of food, ranging from **1 to 50 units**.\r\n",
    "* Some receivers consistently claim larger amounts, suggesting high demand or frequent usage, while many claim smaller quantities.\r\n",
    "* This can help target distribution efforts efficiently by prioritizing high-demand receivers.\r\n"
   ]
  },
  {
   "cell_type": "markdown",
   "id": "3d86a265-0832-406f-a79a-47f5268ab8c7",
   "metadata": {},
   "source": [
    "#### Query 12: Most claimed meal type"
   ]
  },
  {
   "cell_type": "code",
   "execution_count": 24,
   "id": "6bca39c6-e080-4b47-aaf3-7e62702474b4",
   "metadata": {},
   "outputs": [
    {
     "name": "stdout",
     "output_type": "stream",
     "text": [
      "\n",
      "Query 12 Result:\n",
      "    Meal_Type  Total_Claims\n",
      "0  Breakfast           278\n"
     ]
    }
   ],
   "source": [
    "query12 = \"\"\"\n",
    "SELECT Meal_Type, COUNT(c.Claim_ID) AS Total_Claims\n",
    "FROM Claims c\n",
    "JOIN Food_Listings f ON c.Food_ID = f.Food_ID\n",
    "GROUP BY Meal_Type\n",
    "ORDER BY Total_Claims DESC\n",
    "LIMIT 1;\n",
    "\"\"\"\n",
    "result12 = run_query(query12)\n",
    "print(\"\\nQuery 12 Result:\\n\", result12)"
   ]
  },
  {
   "cell_type": "markdown",
   "id": "19737d1b-e032-4e85-bdc5-447882cbd3f0",
   "metadata": {},
   "source": [
    "**Insights:**\n",
    "\n",
    "* **Breakfast** is the most claimed meal type, with 278 claims.\n",
    "* This indicates higher demand for breakfast items, which could guide providers to prioritize breakfast food distribution."
   ]
  },
  {
   "cell_type": "markdown",
   "id": "4b9fe301-43bf-4718-aff2-cb633189f68c",
   "metadata": {},
   "source": [
    "#### Query 13: Total quantity of food donated by each provider"
   ]
  },
  {
   "cell_type": "code",
   "execution_count": 25,
   "id": "31ba2527-b0ac-4651-ae3f-d4f3c14a500b",
   "metadata": {},
   "outputs": [
    {
     "name": "stdout",
     "output_type": "stream",
     "text": [
      "\n",
      "Query 13 Result:\n",
      "                                 Name  Total_Donated\n",
      "0                         Miller Inc            217\n",
      "1                        Barry Group            179\n",
      "2         Evans, Wright and Mitchell            158\n",
      "3                        Smith Group            150\n",
      "4                       Campbell LLC            145\n",
      "..                               ...            ...\n",
      "623                   Reyes and Sons              1\n",
      "624                  Norris-Townsend              1\n",
      "625                        Mcgee PLC              1\n",
      "626  Martinez, Armstrong and Carroll              1\n",
      "627                   Gonzales-Moore              1\n",
      "\n",
      "[628 rows x 2 columns]\n"
     ]
    }
   ],
   "source": [
    "query13 = \"\"\"\n",
    "SELECT p.Name, SUM(f.Quantity) AS Total_Donated\n",
    "FROM Food_Listings f\n",
    "JOIN Providers p ON f.Provider_ID = p.Provider_ID\n",
    "GROUP BY p.Name\n",
    "ORDER BY Total_Donated DESC;\n",
    "\"\"\"\n",
    "result13 = run_query(query13)\n",
    "print(\"\\nQuery 13 Result:\\n\", result13)"
   ]
  },
  {
   "cell_type": "markdown",
   "id": "3a7cf562-43ec-40d2-bc98-9573be1c2176",
   "metadata": {},
   "source": [
    "**Insights:**\n",
    "\n",
    "* **Miller Inc** is the top food donor with a total of 217 donated items.\n",
    "* Other major contributors include **Barry Group** and **Evans, Wright and Mitchell**, indicating that a few providers contribute a significant portion of the total food donations.\n",
    "* Many providers have contributed very little (1–2 items), showing an uneven distribution of donations among providers."
   ]
  },
  {
   "cell_type": "markdown",
   "id": "452ff3b6-af77-4144-8160-1a7836ae196a",
   "metadata": {},
   "source": [
    "#### Query 14: Top Food Providers by Total Contributions"
   ]
  },
  {
   "cell_type": "code",
   "execution_count": 26,
   "id": "f066dbe7-b2e7-4e2d-a9a7-fac9ccf2ba67",
   "metadata": {},
   "outputs": [
    {
     "name": "stdout",
     "output_type": "stream",
     "text": [
      "   Provider_ID               Name  Total_Contributions\n",
      "0          709        Barry Group                    6\n",
      "1          655        Smith Group                    5\n",
      "2          563        Daniels-Kim                    5\n",
      "3          161       Campbell LLC                    5\n",
      "4          995        Moore Group                    4\n",
      "5          993       Mckinney Ltd                    4\n",
      "6          906         Wright LLC                    4\n",
      "7          846         Miller Inc                    4\n",
      "8          752  Butler-Richardson                    4\n",
      "9          678         Ruiz-Oneal                    4\n"
     ]
    }
   ],
   "source": [
    "query_14 = \"\"\"\n",
    "SELECT f.Provider_ID, p.Name, COUNT(f.Food_ID) AS Total_Contributions\n",
    "FROM Food_Listings f\n",
    "JOIN Providers p ON f.Provider_ID = p.Provider_ID\n",
    "GROUP BY f.Provider_ID\n",
    "ORDER BY Total_Contributions DESC\n",
    "LIMIT 10;\n",
    "\"\"\"\n",
    "df_14 = pd.read_sql_query(query_14, conn)\n",
    "print(df_14)"
   ]
  },
  {
   "cell_type": "markdown",
   "id": "ed40e284-d25a-4d18-94ba-198579cd0b00",
   "metadata": {},
   "source": [
    "**Insights:**\n",
    "\n",
    "* **Barry Group** made the most frequent contributions (**6 times**), followed by **Smith Group**, **Daniels-Kim**, and **Campbell LLC** (**5 times each**).\n",
    "* This shows which providers are most active in donating, regardless of the quantity per donation, which can help in maintaining consistent supply chains."
   ]
  },
  {
   "cell_type": "markdown",
   "id": "e261465b-2114-4d15-8c08-95b8072ee415",
   "metadata": {},
   "source": [
    "#### Query 15: Highest Demand Locations Based on Food Claims\n"
   ]
  },
  {
   "cell_type": "code",
   "execution_count": 27,
   "id": "208186d2-54de-4638-8178-b0ec1729d506",
   "metadata": {},
   "outputs": [
    {
     "name": "stdout",
     "output_type": "stream",
     "text": [
      "               City  Total_Claims\n",
      "0  East Heatherport            12\n",
      "1  Lake Andrewmouth             9\n",
      "2         Jamesfurt             9\n",
      "3     South Kathryn             7\n",
      "4         New Carol             7\n",
      "5         East John             7\n",
      "6    Timothychester             6\n",
      "7       Thomasville             6\n",
      "8      Phillipsfort             6\n",
      "9    East Stephanie             6\n"
     ]
    }
   ],
   "source": [
    "query_15 = \"\"\"\n",
    "SELECT P.City, COUNT(C.Claim_ID) AS Total_Claims\n",
    "FROM Claims C\n",
    "JOIN Food_Listings F ON C.Food_ID = F.Food_ID\n",
    "JOIN Providers P ON F.Provider_ID = P.Provider_ID\n",
    "GROUP BY P.City\n",
    "ORDER BY Total_Claims DESC\n",
    "LIMIT 10;\n",
    "\"\"\"\n",
    "df_15 = pd.read_sql_query(query_15, conn)\n",
    "print(df_15)"
   ]
  },
  {
   "cell_type": "markdown",
   "id": "4bdde375-aadb-41e5-a8ad-fd4b1c8bca98",
   "metadata": {},
   "source": [
    "**Insights:**\n",
    "- East Heatherport has the highest number of food claims (12), followed by Lake Andrewmouth and Jamesfurt (9 each).\n",
    "- Several other cities like South Kathryn, New Carol, and East John also have multiple claims (7 each).\n",
    "- This highlights the areas where food demand is most concentrated, which can guide prioritization for distribution efforts."
   ]
  },
  {
   "cell_type": "markdown",
   "id": "f39d6cb2-57ce-40b0-be46-d91eea4da9ea",
   "metadata": {},
   "source": [
    "\r\n",
    "**Insights from SQL Queries**\r\n",
    "\r\n",
    "1. **Food Providers & Receivers by City**\r\n",
    "   - Cities like Aaronshire and Adamland have a mix of providers and receivers, indicating uneven distribution of food services.\r\n",
    "\r\n",
    "2. **Type of Food Provider Contributing the Most**\r\n",
    "   - Supermarkets (267) and restaurants (258) are the top contributors, followed closely by grocery stores and catering services.\r\n",
    "\r\n",
    "3. **Contact Information of Food Providers in a Specific City**\r\n",
    "   - For the city \"New Jessica\", the provider is Gonzales-Cochran (+1-600-220-0480).\r\n",
    "\r\n",
    "4. **Receivers Who Have Claimed the Most Food**\r\n",
    "   - Several receivers have claimed 5 items, showing active participation in claiming donations.\r\n",
    "\r\n",
    "5. **Total Quantity of Food Available**\r\n",
    "   - The overall food quantity available across all providers is 25,794 units.\r\n",
    "\r\n",
    "6. **City with Highest Number of Food Listings**\r\n",
    "   - South Kathryn leads with 6 food listings.\r\n",
    "\r\n",
    "7. **Most Commonly Available Food Types**\r\n",
    "   - Vegetarian (336), Vegan (334), and Non-Vegetarian (330) are nearly equally available.\r\n",
    "\r\n",
    "8. **Food Claims by Type**\r\n",
    "   - Vegetarian (350) leads in claims, followed by Non-Vegetarian (331) and Vegan (319).\r\n",
    "\r\n",
    "9. **Provider with Highest Number of Successful Claims**\r\n",
    "   - Barry Group has the most successful claims (5).\r\n",
    "\r\n",
    "10. **Percentage of Food Claims by Status**\r\n",
    "    - Completed: 33.9%, Cancelled: 33.6%, Pending: 32.5%.\r\n",
    "\r\n",
    "11. **Average Quantity of Food Claimed per Receiver**\r\n",
    "    - Most active receivers claim around 50 units, while some claim as low as 1-2 units.\r\n",
    "\r\n",
    "12. **Most Claimed Meal Type**\r\n",
    "    - Breakfast is the most claimed meal type (278 claims).\r\n",
    "\r\n",
    "13. **Total Quantity Donated by Each Provider**\r\n",
    "    - Miller Inc donated the most (217 units), followed by Barry Group (179 units).\r\n",
    "\r\n",
    "14. **Top Food Providers by Total Contributions**\r\n",
    "    - Barry Group (6 contributions), Smith Group (5), Daniels-Kim (5), Campbell LLC (5), etc.\r\n",
    "\r\n",
    "15. **Highest Demand Locations Based on Food Claims**\r\n",
    "    - East Heatherport has the highest number of claims (12), followed by Lake Andrewmouth and Jamesfurt (9 each).\r\n",
    "    - Other high-demand cities include South Kathryn, New Carol, and East John (7 each).\r\n",
    "\r\n",
    "**Summary**\r\n",
    "- These insights help identify trends in food donations and claims.\r\n",
    "- Top contributing providers and high-demand locations can guide better food distribution strategies.\r\n",
    "- Balanced availability of vegetarian, vegan, and non-vegetarian food suggests diverse donor contributions.\r\n"
   ]
  },
  {
   "cell_type": "markdown",
   "id": "2da96e06-1bee-45aa-8886-eb129ab90a88",
   "metadata": {},
   "source": [
    "# 4. Application Development\n",
    "\n",
    "**Streamlit-based User Interface**\n",
    "\n",
    "- Developed an interactive Streamlit application to visualize and interact with the SQL database.\n",
    "- Features include:\n",
    "\n",
    "### 1. Display SQL Query Outputs\n",
    "- All 15 queries from the data analysis step are displayed in tables.\n",
    "- Users can view insights on:\n",
    "  - Food providers and receivers\n",
    "  - Food listings and availability\n",
    "  - Claims and distribution\n",
    "  - Top contributors and high-demand locations\n",
    "\n",
    "### 2. Filtering Options\n",
    "- Users can filter data by:\n",
    "  - City\n",
    "  - Provider\n",
    "  - Food type (Vegetarian, Vegan, Non-Vegetarian)\n",
    "  - Meal type (Breakfast, Lunch, Dinner, Snacks)\n",
    "- Enables targeted analysis for better food distribution planning.\n",
    "\n",
    "### 3. Contact Details\n",
    "- Directly shows contact information of providers for easy coordination.\n",
    "- Helps streamline communication between food donors and receivers.\n",
    "\n",
    "### 4. CRUD Operations\n",
    "- Users can:\n",
    "  - Add new records (providers, receivers, food listings, claims)\n",
    "  - Update existing records\n",
    "  - Delete records as needed\n",
    "- Ensures the database stays up-to-date and manageable.\n",
    "\n",
    "**Summary**\n",
    "- The Streamlit app provides a user-friendly interface to explore food donation trends.\n",
    "- Supports real-time interaction with the database for monitoring and decision-making.\n",
    "- Enhances transparency and efficiency in food distribution efforts.\n"
   ]
  },
  {
   "cell_type": "markdown",
   "id": "c066ce0e-fd25-41c9-aca3-150f3305905e",
   "metadata": {},
   "source": [
    "# 5. Deployment"
   ]
  },
  {
   "cell_type": "markdown",
   "id": "ca56d6fa-7148-4148-9d94-092f90b91fbe",
   "metadata": {},
   "source": [
    "on\r\n",
    "\r\n",
    "### Running the Streamlit App\r\n",
    "\r\n",
    "To launch the interactive application:\r\n",
    "\r\n",
    "```bash\r\n",
    "streamlit run app.py\r\n",
    "```\r\n",
    "\r\n",
    "This opens the app in the browser and allows users to interact with the database in real time.\r\n",
    "\r\n",
    "---\r\n",
    "\r\n",
    "### Features Demonstrated in the App\r\n",
    "\r\n",
    "1. **Explore Listings**\r\n",
    "\r\n",
    "   * View and filter food listings based on city, provider, food type, and meal type.\r\n",
    "   * Quick summary metrics (rows, total quantity, unique providers, expiring soon).\r\n",
    "\r\n",
    "2. **Contacts**\r\n",
    "\r\n",
    "   * Access contact details of providers and receivers for coordination.\r\n",
    "\r\n",
    "3. **Queries**\r\n",
    "\r\n",
    "   * All **15 SQL queries** are available with outputs shown in clean tables.\r\n",
    "   * Helps analyze providers, receivers, food availability, and claims.\r\n",
    "\r\n",
    "4. **CRUD Operations**\r\n",
    "\r\n",
    "   * Add new records (providers, receivers, listings, claims).\r\n",
    "   * Update or delete existing entries.\r\n",
    "   * Keeps database up-to-date and manageable.\r\n",
    "\r\n",
    "---\r\n",
    "\r\n",
    "### Application Screenshots\r\n",
    "\r\n",
    "Below are sample sc(markdown) on *how to take and save these screenshots* so evaluators can reproduce them?\r\n"
   ]
  },
  {
   "cell_type": "code",
   "execution_count": 3,
   "id": "1ff1e1d7-011e-4ec9-b998-5f3148693e2e",
   "metadata": {},
   "outputs": [
    {
     "data": {
      "image/png": "[encoded data removed]",
      "text/plain": [
       "<Figure size 1200x1000 with 4 Axes>"
      ]
     },
     "metadata": {},
     "output_type": "display_data"
    }
   ],
   "source": [
    "import matplotlib.pyplot as plt\n",
    "import matplotlib.image as mpimg\n",
    "\n",
    "# Load screenshots\n",
    "img1 = mpimg.imread(\"images/explore.png\")\n",
    "img2 = mpimg.imread(\"images/contacts.png\")\n",
    "img3 = mpimg.imread(\"images/queries.png\")\n",
    "img4 = mpimg.imread(\"images/crud.png\")\n",
    "\n",
    "# Plot in 2x2 grid\n",
    "fig, axes = plt.subplots(2, 2, figsize=(12, 10))\n",
    "\n",
    "axes[0,0].imshow(img1); axes[0,0].set_title(\"Explore Listings\"); axes[0,0].axis(\"off\")\n",
    "axes[0,1].imshow(img2); axes[0,1].set_title(\"Contacts\"); axes[0,1].axis(\"off\")\n",
    "axes[1,0].imshow(img3); axes[1,0].set_title(\"Queries\"); axes[1,0].axis(\"off\")\n",
    "axes[1,1].imshow(img4); axes[1,1].set_title(\"CRUD Operations\"); axes[1,1].axis(\"off\")\n",
    "\n",
    "plt.tight_layout()\n",
    "plt.show()"
   ]
  },
  {
   "cell_type": "markdown",
   "id": "53c4ccf8-87fc-4b5a-9e4b-ff878fac8ed0",
   "metadata": {},
   "source": [
    "### Summary\n",
    "\n",
    "The deployed Streamlit app:\n",
    "\n",
    "* Provides a user-friendly interface for monitoring food donation activities.\n",
    "* Supports **real-time filtering, query execution, and CRUD operations**.\n",
    "* Enhances **decision-making and communication** between providers and receivers.\n"
   ]
  },
  {
   "cell_type": "markdown",
   "id": "11fb6693-34b0-49b0-9a41-47fabe7bf024",
   "metadata": {
    "id": "gCX9965dhzqZ"
   },
   "source": [
    "# **Conclusion**"
   ]
  },
  {
   "cell_type": "markdown",
   "id": "b10cfa2d-1d07-43f3-8162-adb776cdb72d",
   "metadata": {
    "id": "Fjb1IsQkh3yE"
   },
   "source": [
    "The Food Waste Management project successfully demonstrates how data-driven solutions can address critical issues of food wastage and hunger. By designing and implementing a robust SQL database, we were able to organize and analyze large amounts of data related to food providers, receivers, listings, and claims. Through 15 structured SQL queries, meaningful insights were generated, such as identifying top contributors, high-demand locations, and patterns in food availability and distribution.\n",
    "\n",
    "Building on these insights, we developed an interactive Streamlit application that provides a user-friendly interface to:\n",
    "\n",
    "* Explore and filter food listings by city, provider, and meal type.\n",
    "\n",
    "* Access direct contact details of providers and receivers for seamless coordination.\n",
    "\n",
    "* Perform CRUD operations to keep the database updated.\n",
    "\n",
    "* Visualize real-time outputs of the SQL queries for actionable decision-making.\n",
    "\n",
    "Overall, this project not only highlights the potential of combining **SQL, Python, and Streamlit** for efficient data management but also provides a scalable solution for improving food distribution networks. By bridging the gap between food donors and receivers, the system enhances transparency, reduces wastage, and contributes toward building a more sustainable and socially responsible ecosystem."
   ]
  }
 ],
 "metadata": {
  "kernelspec": {
   "display_name": "Python 3 (ipykernel)",
   "language": "python",
   "name": "python3"
  },
  "language_info": {
   "codemirror_mode": {
    "name": "ipython",
    "version": 3
   },
   "file_extension": ".py",
   "mimetype": "text/x-python",
   "name": "python",
   "nbconvert_exporter": "python",
   "pygments_lexer": "ipython3",
   "version": "3.11.4"
  }
 },
 "nbformat": 4,
 "nbformat_minor": 5
}
